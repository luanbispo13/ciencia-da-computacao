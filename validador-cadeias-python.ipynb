{
  "cells": [
    {
      "cell_type": "markdown",
      "metadata": {
        "id": "mbalK7kTN331"
      },
      "source": [
        "[Atividade avaliativa LFA](https://bb.cruzeirodosulvirtual.com.br/ultra/courses/_1104992_1/outline/edit/document/_21122293_1?courseId=_1104992_1&view=content&state=view)\n",
        "\n",
        "2. Construção de Autômatos Finitos Determinísticos (AFD)\n",
        "\n",
        "Diversos exercícios pedem que o aluno:\n",
        "Construa o diagrama de estados\n",
        "Defina a função de transição\n",
        "Identifique estados finais e iniciais\n",
        "\n",
        "Referencia de exercicios linguagens regulares\n",
        "\n",
        "**Atividade 35**\n",
        "\n",
        "Cadeias que não contenham dois símbolos consecutivos iguais.\n",
        "\n",
        "{abcb, cacbcbab,\n",
        "bababababcacbcac,babababa,\n",
        "acabacaca, cbabc, a, b ... }\n",
        "\n",
        "Sigma = {a,b,c}\n",
        "\n",
        "Nomes:\n",
        "Lucas Vitor Lima Santana\n",
        "João Gabriel Rodrigues Pereira\n",
        "Luan Bispo Silva"
      ]
    },
    {
      "cell_type": "markdown",
      "metadata": {
        "id": "a0ebbf14"
      },
      "source": [
        "Este código define um Autômato Finito Determinístico (AFD) em Python que valida se uma cadeia de caracteres, composta pelos símbolos 'a', 'b' e 'c', *não* contém dois símbolos consecutivos iguais. Em outras palavras, ele aceita cadeias como \"abc\", \"acacaca\", \"acb\", e rejeita cadeias como \"aaccbb\" ou \"bb\".\n",
        "\n",
        "Vamos detalhar os componentes do AFD definidos no código:\n",
        "\n",
        "1.  **Alfabeto (Σ):** Definido pela variável `SIGMA = {\"a\", \"b\", \"c\"}`, que representa o conjunto de símbolos que o autômato pode processar. Qualquer caractere fora deste conjunto fará com que a cadeia seja rejeitada imediatamente.\n",
        "\n",
        "2.  **Estados:** A variável `states` define os estados possíveis do autômato:\n",
        "    *   `\"q_start\"`: O estado inicial, onde o autômato começa a processar a cadeia. Ele representa o estado em que o último símbolo lido (ou nenhum, no início) não impõe restrições para o próximo símbolo.\n",
        "    *   `\"qA\"`: Representa o estado em que o último símbolo lido foi 'a'.\n",
        "    *   `\"qB\"`: Representa o estado em que o último símbolo lido foi 'b'.\n",
        "    *   `\"qC\"`: Representa o estado em que o último símbolo lido foi 'c'.\n",
        "    *   `\"q_dead\"`: O estado \"morto\" ou de rejeição. Uma vez que o autômato alcança este estado, ele permanecerá nele, independentemente dos próximos símbolos, garantindo que a cadeia será rejeitada. Este estado é alcançado quando dois símbolos consecutivos são iguais.\n",
        "\n",
        "3.  **Estado Inicial:** A variável `start = \"q_start\"` indica o estado em que o processamento da cadeia sempre começa.\n",
        "\n",
        "4.  **Estados de Aceitação:** A variável `accepting = {\"q_start\", \"qA\", \"qB\", \"qC\"}` define os estados em que o autômato pode terminar o processamento de uma cadeia para que ela seja considerada válida (aceita). Note que o estado inicial `\"q_start\"` também é um estado de aceitação, o que significa que a cadeia vazia (\"\") é aceita. Os estados `\"qA\"`, `\"qB\"`, e `\"qC\"` são estados de aceitação porque, ao terminar em qualquer um deles, o último símbolo lido não foi precedido por um símbolo igual (caso contrário, teria ido para `q_dead`).\n",
        "\n",
        "5.  **Função de Transição (δ):** A variável `delta` é um dicionário que define as transições entre os estados. Para cada estado atual e cada símbolo do alfabeto, `delta` especifica para qual estado o autômato irá. Por exemplo:\n",
        "    *   Se o autômato está em `\"q_start\"` e lê 'a', ele vai para `\"qA\"`.\n",
        "    *   Se o autômato está em `\"qA\"` e lê 'a', ele vai para `\"q_dead\"` (pois encontrou dois 'a's consecutivos).\n",
        "    *   Se o autômato está em `\"qA\"` e lê 'b', ele vai para `\"qB\"`.\n",
        "    *   E assim por diante para todas as combinações. No estado `\"q_dead\"`, qualquer símbolo leva de volta para `\"q_dead\"`.\n",
        "\n",
        "6.  **Função `aceita(w, trace)`:** Esta função simula o funcionamento do AFD. Ela recebe uma cadeia `w` e um parâmetro opcional `trace`.\n",
        "    *   Inicia no estado `q_start`.\n",
        "    *   Percorre cada caractere (`ch`) da cadeia `w`.\n",
        "    *   Verifica se o caractere está no alfabeto `SIGMA`. Se não estiver, a cadeia é rejeitada.\n",
        "    *   Usa a função de transição `delta` para determinar o próximo estado com base no estado atual e no caractere lido.\n",
        "    *   O parâmetro `trace` permite imprimir o caminho percorrido pelo autômato (estado inicial, cada leitura de símbolo e transição de estado, e o estado final), o que é útil para depuração e entendimento.\n",
        "    *   Ao final da cadeia, a função verifica se o estado final alcançado (`q`) está no conjunto de estados de aceitação (`accepting`). Se estiver, retorna `True` (a cadeia é aceita); caso contrário, retorna `False` (a cadeia é rejeitada).\n",
        "\n",
        "7.  **Função `main()`:** Esta função fornece uma interface de linha de comando simples para testar o AFD. Ela:\n",
        "    *   Exibe uma mensagem inicial.\n",
        "    *   Entra em um loop onde solicita ao usuário que insira uma cadeia.\n",
        "    *   Permite comandos especiais como `/sair` (para encerrar) e `/trace` (para ativar/desativar o rastreamento).\n",
        "    *   Chama a função `aceita()` com a cadeia fornecida pelo usuário.\n",
        "    *   Imprime \"ACEITA\" ou \"REJEITA\" com base no resultado da função `aceita()`.\n",
        "\n",
        "Em resumo, o código implementa um AFD que funciona como um filtro: ele permite a passagem apenas de cadeias que não violem a regra de ter símbolos consecutivos iguais, utilizando os estados para \"lembrar\" qual foi o último símbolo lido e a função de transição para reagir a essa informação ao ler o próximo símbolo."
      ]
    },
    {
      "cell_type": "code",
      "execution_count": 2,
      "metadata": {
        "colab": {
          "base_uri": "https://localhost:8080/",
          "height": 443
        },
        "id": "hYVycUTXNaVN",
        "outputId": "c046ac1f-5491-4226-9022-37632a8fbb89"
      },
      "outputs": [
        {
          "output_type": "stream",
          "name": "stdout",
          "text": [
            "AFD — Cadeias em {a,b,c} SEM símbolos consecutivos iguais.\n",
            "Digite uma cadeia (ex.: 'abacbc'). Comandos: /trace (liga/desliga), /sair\n",
            "\n",
            "> /trace\n",
            "Rastreamento ATIVADO.\n",
            "> /trace\n",
            "Rastreamento DESATIVADO.\n"
          ]
        },
        {
          "output_type": "error",
          "ename": "KeyboardInterrupt",
          "evalue": "Interrupted by user",
          "traceback": [
            "\u001b[0;31m---------------------------------------------------------------------------\u001b[0m",
            "\u001b[0;31mKeyboardInterrupt\u001b[0m                         Traceback (most recent call last)",
            "\u001b[0;32m/tmp/ipython-input-4058695803.py\u001b[0m in \u001b[0;36m<cell line: 0>\u001b[0;34m()\u001b[0m\n\u001b[1;32m     64\u001b[0m \u001b[0;34m\u001b[0m\u001b[0m\n\u001b[1;32m     65\u001b[0m \u001b[0;32mif\u001b[0m \u001b[0m__name__\u001b[0m \u001b[0;34m==\u001b[0m \u001b[0;34m\"__main__\"\u001b[0m\u001b[0;34m:\u001b[0m\u001b[0;34m\u001b[0m\u001b[0;34m\u001b[0m\u001b[0m\n\u001b[0;32m---> 66\u001b[0;31m     \u001b[0mmain\u001b[0m\u001b[0;34m(\u001b[0m\u001b[0;34m)\u001b[0m\u001b[0;34m\u001b[0m\u001b[0;34m\u001b[0m\u001b[0m\n\u001b[0m",
            "\u001b[0;32m/tmp/ipython-input-4058695803.py\u001b[0m in \u001b[0;36mmain\u001b[0;34m()\u001b[0m\n\u001b[1;32m     47\u001b[0m     \u001b[0mtrace\u001b[0m \u001b[0;34m=\u001b[0m \u001b[0;32mFalse\u001b[0m\u001b[0;34m\u001b[0m\u001b[0;34m\u001b[0m\u001b[0m\n\u001b[1;32m     48\u001b[0m     \u001b[0;32mwhile\u001b[0m \u001b[0;32mTrue\u001b[0m\u001b[0;34m:\u001b[0m\u001b[0;34m\u001b[0m\u001b[0;34m\u001b[0m\u001b[0m\n\u001b[0;32m---> 49\u001b[0;31m         \u001b[0ms\u001b[0m \u001b[0;34m=\u001b[0m \u001b[0minput\u001b[0m\u001b[0;34m(\u001b[0m\u001b[0;34m\"> \"\u001b[0m\u001b[0;34m)\u001b[0m\u001b[0;34m.\u001b[0m\u001b[0mstrip\u001b[0m\u001b[0;34m(\u001b[0m\u001b[0;34m)\u001b[0m\u001b[0;34m\u001b[0m\u001b[0;34m\u001b[0m\u001b[0m\n\u001b[0m\u001b[1;32m     50\u001b[0m         \u001b[0;32mif\u001b[0m \u001b[0;32mnot\u001b[0m \u001b[0ms\u001b[0m\u001b[0;34m:\u001b[0m\u001b[0;34m\u001b[0m\u001b[0;34m\u001b[0m\u001b[0m\n\u001b[1;32m     51\u001b[0m             \u001b[0;31m# Enter vazio: apenas continua (mude para 'break' se quiser sair com vazio)\u001b[0m\u001b[0;34m\u001b[0m\u001b[0;34m\u001b[0m\u001b[0m\n",
            "\u001b[0;32m/usr/local/lib/python3.12/dist-packages/ipykernel/kernelbase.py\u001b[0m in \u001b[0;36mraw_input\u001b[0;34m(self, prompt)\u001b[0m\n\u001b[1;32m   1175\u001b[0m                 \u001b[0;34m\"raw_input was called, but this frontend does not support input requests.\"\u001b[0m\u001b[0;34m\u001b[0m\u001b[0;34m\u001b[0m\u001b[0m\n\u001b[1;32m   1176\u001b[0m             )\n\u001b[0;32m-> 1177\u001b[0;31m         return self._input_request(\n\u001b[0m\u001b[1;32m   1178\u001b[0m             \u001b[0mstr\u001b[0m\u001b[0;34m(\u001b[0m\u001b[0mprompt\u001b[0m\u001b[0;34m)\u001b[0m\u001b[0;34m,\u001b[0m\u001b[0;34m\u001b[0m\u001b[0;34m\u001b[0m\u001b[0m\n\u001b[1;32m   1179\u001b[0m             \u001b[0mself\u001b[0m\u001b[0;34m.\u001b[0m\u001b[0m_parent_ident\u001b[0m\u001b[0;34m[\u001b[0m\u001b[0;34m\"shell\"\u001b[0m\u001b[0;34m]\u001b[0m\u001b[0;34m,\u001b[0m\u001b[0;34m\u001b[0m\u001b[0;34m\u001b[0m\u001b[0m\n",
            "\u001b[0;32m/usr/local/lib/python3.12/dist-packages/ipykernel/kernelbase.py\u001b[0m in \u001b[0;36m_input_request\u001b[0;34m(self, prompt, ident, parent, password)\u001b[0m\n\u001b[1;32m   1217\u001b[0m             \u001b[0;32mexcept\u001b[0m \u001b[0mKeyboardInterrupt\u001b[0m\u001b[0;34m:\u001b[0m\u001b[0;34m\u001b[0m\u001b[0;34m\u001b[0m\u001b[0m\n\u001b[1;32m   1218\u001b[0m                 \u001b[0;31m# re-raise KeyboardInterrupt, to truncate traceback\u001b[0m\u001b[0;34m\u001b[0m\u001b[0;34m\u001b[0m\u001b[0m\n\u001b[0;32m-> 1219\u001b[0;31m                 \u001b[0;32mraise\u001b[0m \u001b[0mKeyboardInterrupt\u001b[0m\u001b[0;34m(\u001b[0m\u001b[0;34m\"Interrupted by user\"\u001b[0m\u001b[0;34m)\u001b[0m \u001b[0;32mfrom\u001b[0m \u001b[0;32mNone\u001b[0m\u001b[0;34m\u001b[0m\u001b[0;34m\u001b[0m\u001b[0m\n\u001b[0m\u001b[1;32m   1220\u001b[0m             \u001b[0;32mexcept\u001b[0m \u001b[0mException\u001b[0m\u001b[0;34m:\u001b[0m\u001b[0;34m\u001b[0m\u001b[0;34m\u001b[0m\u001b[0m\n\u001b[1;32m   1221\u001b[0m                 \u001b[0mself\u001b[0m\u001b[0;34m.\u001b[0m\u001b[0mlog\u001b[0m\u001b[0;34m.\u001b[0m\u001b[0mwarning\u001b[0m\u001b[0;34m(\u001b[0m\u001b[0;34m\"Invalid Message:\"\u001b[0m\u001b[0;34m,\u001b[0m \u001b[0mexc_info\u001b[0m\u001b[0;34m=\u001b[0m\u001b[0;32mTrue\u001b[0m\u001b[0;34m)\u001b[0m\u001b[0;34m\u001b[0m\u001b[0;34m\u001b[0m\u001b[0m\n",
            "\u001b[0;31mKeyboardInterrupt\u001b[0m: Interrupted by user"
          ]
        }
      ],
      "source": [
        "# Atividade 35\n",
        "\n",
        "# Validador DFA para Σ={a,b,c}: NÃO permite símbolos consecutivos iguais.\n",
        "# Linguagem: L = { w ∈ {a,b,c}* | não existe i com w[i] = w[i+1] }\n",
        "\n",
        "from typing import Dict, Set\n",
        "\n",
        "# Define o Alfabeto do automato e qualquer simbolo fora disso é rejeitado\n",
        "\n",
        "SIGMA: Set[str] = {\"a\", \"b\", \"c\"}\n",
        "\n",
        "# Estados\n",
        "states = {\"q_start\", \"qA\", \"qB\", \"qC\", \"q_dead\"}\n",
        "start = \"q_start\"\n",
        "accepting = {\"q_start\", \"qA\", \"qB\", \"qC\"} # vazio e qualquer sequência válida\n",
        "dead = \"q_dead\"\n",
        "\n",
        "# δ: estado × símbolo -> próximo estado\n",
        "delta: Dict[str, Dict[str, str]] = {\n",
        "    \"q_start\": {\"a\": \"qA\", \"b\": \"qB\", \"c\": \"qC\"},\n",
        "    \"qA\": {\"a\": \"q_dead\", \"b\": \"qB\", \"c\": \"qC\"},\n",
        "    \"qB\": {\"a\": \"qA\", \"b\": \"q_dead\", \"c\": \"qC\"},\n",
        "    \"qC\": {\"a\": \"qA\", \"b\": \"qB\", \"c\": \"q_dead\"},\n",
        "    \"q_dead\": {\"a\": \"q_dead\", \"b\": \"q_dead\", \"c\": \"q_dead\"},\n",
        "}\n",
        "\n",
        "def aceita(w: str, trace: bool = False) -> bool:\n",
        "    \"\"\"\n",
        "    Simula o AFD acima.\n",
        "    - Retorna True se 'w' NÃO tem símbolos consecutivos iguais (sobre Σ={a,b,c}).\n",
        "    - Rejeita se houver símbolo fora do alfabeto.\n",
        "    \"\"\"\n",
        "    q = start\n",
        "    if trace: print(f\"start -> {q}\")\n",
        "    for i, ch in enumerate(w):\n",
        "        if ch not in SIGMA:\n",
        "            if trace: print(f\"símbolo inválido '{ch}' na posição {i}\")\n",
        "            return False\n",
        "        q = delta[q][ch]\n",
        "        if trace: print(f\"lê '{ch}' -> {q}\")\n",
        "    if trace: print(f\"fim em {q} -> {'ACEITA' if q in accepting else 'REJEITA'}\")\n",
        "    return q in accepting\n",
        "\n",
        "def main():\n",
        "    print(\"AFD — Cadeias em {a,b,c} SEM símbolos consecutivos iguais.\")\n",
        "    print(\"Digite uma cadeia (ex.: 'abacbc'). Comandos: /trace (liga/desliga), /sair\\n\")\n",
        "    trace = False\n",
        "    while True:\n",
        "        s = input(\"> \").strip()\n",
        "        if not s:\n",
        "            # Enter vazio: apenas continua (mude para 'break' se quiser sair com vazio)\n",
        "            continue\n",
        "        cmd = s.lower()\n",
        "        if cmd in {\"/sair\", \"sair\", \"exit\", \"quit\"}:\n",
        "            print(\"Encerrando. Até mais!\")\n",
        "            break\n",
        "        if cmd in {\"/trace\", \"trace\"}:\n",
        "            trace = not trace\n",
        "            print(f\"Rastreamento {'ATIVADO' if trace else 'DESATIVADO'}.\")\n",
        "            continue\n",
        "\n",
        "        ok = aceita(s, trace=trace)\n",
        "        print(\"ACEITA\" if ok else \"REJEITA\")\n",
        "\n",
        "if __name__ == \"__main__\":\n",
        "    main()"
      ]
    }
  ],
  "metadata": {
    "colab": {
      "provenance": []
    },
    "kernelspec": {
      "display_name": "Python 3",
      "name": "python3"
    },
    "language_info": {
      "name": "python"
    }
  },
  "nbformat": 4,
  "nbformat_minor": 0
}